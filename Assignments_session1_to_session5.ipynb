{
 "cells": [
  {
   "cell_type": "raw",
   "metadata": {},
   "source": [
    "2.1. Problem Statement: PYTHON 1\n",
    "1. Install Jupyter notebook and run the first program and share the screenshot of the output."
   ]
  },
  {
   "cell_type": "code",
   "execution_count": 1,
   "metadata": {},
   "outputs": [
    {
     "name": "stdout",
     "output_type": "stream",
     "text": [
      "hello world\n"
     ]
    }
   ],
   "source": [
    "print(\"hello world\")"
   ]
  },
  {
   "cell_type": "raw",
   "metadata": {},
   "source": [
    "2. Write a program which will find all such numbers which are divisible by 7 but are not a\n",
    "multiple of 5, between 2000 and 3200 (both included). The numbers obtained should be printed\n",
    "in a comma-separated sequence on a single line."
   ]
  },
  {
   "cell_type": "code",
   "execution_count": 42,
   "metadata": {},
   "outputs": [
    {
     "name": "stdout",
     "output_type": "stream",
     "text": [
      "2002,2009,2016,2023,2037,2044,2051,2058,2072,2079,2086,2093,2107,2114,2121,2128,2142,2149,2156,2163,2177,2184,2191,2198,2212,2219,2226,2233,2247,2254,2261,2268,2282,2289,2296,2303,2317,2324,2331,2338,2352,2359,2366,2373,2387,2394,2401,2408,2422,2429,2436,2443,2457,2464,2471,2478,2492,2499,2506,2513,2527,2534,2541,2548,2562,2569,2576,2583,2597,2604,2611,2618,2632,2639,2646,2653,2667,2674,2681,2688,2702,2709,2716,2723,2737,2744,2751,2758,2772,2779,2786,2793,2807,2814,2821,2828,2842,2849,2856,2863,2877,2884,2891,2898,2912,2919,2926,2933,2947,2954,2961,2968,2982,2989,2996,3003,3017,3024,3031,3038,3052,3059,3066,3073,3087,3094,3101,3108,3122,3129,3136,3143,3157,3164,3171,3178,3192,3199\n"
     ]
    }
   ],
   "source": [
    "l=[]\n",
    "for i in range(2000,3201):\n",
    "    if i%7==0 and i%5!=0:\n",
    "        l.append(i)\n",
    "print(*l,sep=\",\")"
   ]
  },
  {
   "cell_type": "raw",
   "metadata": {},
   "source": [
    "3. Write a Python program to accept the user's first and last name and then getting them\n",
    "printed in the the reverse order with a space between first name and last name."
   ]
  },
  {
   "cell_type": "code",
   "execution_count": 46,
   "metadata": {},
   "outputs": [
    {
     "name": "stdout",
     "output_type": "stream",
     "text": [
      "enter first name : gokul\n",
      "enter last name : mohan\n",
      "lukog nahom\n"
     ]
    }
   ],
   "source": [
    "firstname=input(\"enter first name : \")\n",
    "lastname=input(\"enter last name : \")\n",
    "print(firstname[::-1]+' '+lastname[::-1])"
   ]
  },
  {
   "cell_type": "raw",
   "metadata": {},
   "source": [
    "4. Write a Python program to find the volume of a sphere with diameter 12 cm.\n",
    "Formula: V=4/3 * π * r\n",
    "3"
   ]
  },
  {
   "cell_type": "code",
   "execution_count": 52,
   "metadata": {},
   "outputs": [
    {
     "name": "stdout",
     "output_type": "stream",
     "text": [
      "Enter radius of sphere in cm: 12\n",
      "volume of the sphere = 7234.56 CM^3\n"
     ]
    }
   ],
   "source": [
    "r=int(input(\"Enter radius of sphere in cm: \"))\n",
    "volume=(4/3)*(3.14)*(r**3)\n",
    "print(\"volume of the sphere = {} CM^3\".format(round(volume,2)))"
   ]
  },
  {
   "cell_type": "raw",
   "metadata": {},
   "source": [
    "2.2. Problem Statement: PYTHON 2\n",
    "1. Write a program which accepts a sequence of comma-separated numbers from console and\n",
    "generate a list."
   ]
  },
  {
   "cell_type": "code",
   "execution_count": 24,
   "metadata": {},
   "outputs": [
    {
     "name": "stdout",
     "output_type": "stream",
     "text": [
      "Enter comma separated numbers : 1,2,3,4,5\n",
      "list of numbers is : [1, 2, 3, 4, 5]\n"
     ]
    }
   ],
   "source": [
    "numbers=input(\"Enter comma separated numbers : \")\n",
    "l1=numbers.split(\",\")\n",
    "l2=[]\n",
    "for i in l1:\n",
    "    l2.append(int(i))\n",
    "print(\"list of numbers is :\" ,l2)"
   ]
  },
  {
   "cell_type": "raw",
   "metadata": {},
   "source": [
    "2 Create the below pattern using nested for loop in Python.\n",
    "*\n",
    "* *\n",
    "* * *\n",
    "* * * *\n",
    "* * * * *\n",
    "* * * *\n",
    "* * *\n",
    "* *\n",
    "*"
   ]
  },
  {
   "cell_type": "code",
   "execution_count": 2,
   "metadata": {},
   "outputs": [
    {
     "name": "stdout",
     "output_type": "stream",
     "text": [
      "no of rows (odd number) : 9\n",
      "\n",
      "* \n",
      "* * \n",
      "* * * \n",
      "* * * * \n",
      "* * * * * \n",
      "* * * * \n",
      "* * * \n",
      "* * \n",
      "* \n"
     ]
    }
   ],
   "source": [
    "rows=int(input(\"no of rows (odd number) : \"))\n",
    "for i in range(0,(int(rows/2))+1):\n",
    "    for j in range(0,i):\n",
    "        print(\"*\",end=\" \")\n",
    "    print()\n",
    "for i in range(-(int(rows/2)+1),0):\n",
    "    for j in range(i,0):\n",
    "        print(\"*\",end=\" \")\n",
    "    print()\n"
   ]
  },
  {
   "cell_type": "raw",
   "metadata": {},
   "source": [
    "3. Write a Python program to reverse a word after accepting the input from the user."
   ]
  },
  {
   "cell_type": "code",
   "execution_count": 52,
   "metadata": {},
   "outputs": [
    {
     "name": "stdout",
     "output_type": "stream",
     "text": [
      "Enter the input word : gokul\n",
      "Output string in reverse order :  lukog\n"
     ]
    }
   ],
   "source": [
    "inputword=input(\"Enter the input word : \")\n",
    "print(\"Output string in reverse order : \",inputword[::-1])"
   ]
  },
  {
   "cell_type": "raw",
   "metadata": {},
   "source": [
    "4. Write a Python Program to print the given string in the format specified in the\n",
    "sample output.\n",
    "WE, THE PEOPLE OF INDIA, having solemnly resolved to constitute India into a SOVEREIGN,\n",
    "SOCIALIST, SECULAR, DEMOCRATIC REPUBLIC and to secure to all its citizens\n",
    "Sample Output:\n",
    "WE, THE PEOPLE OF INDIA,\n",
    "having solemnly resolved to constitute India into a SOVEREIGN, !\n",
    "SOCIALIST, SECULAR, DEMOCRATIC\n",
    "REPUBLIC and to secure to all its citizens"
   ]
  },
  {
   "cell_type": "code",
   "execution_count": 72,
   "metadata": {},
   "outputs": [
    {
     "name": "stdout",
     "output_type": "stream",
     "text": [
      "WE, THE PEOPLE OF INDIA,\n",
      "      having solemnly resolved to constitute India into a SOVEREIGN,!\n",
      " \t   SOCIALIST,SECULAR, DEMOCRATIC\n",
      " \t    REPUBLIC and to secure to all its citizens\n"
     ]
    }
   ],
   "source": [
    "print(\"WE, THE PEOPLE OF INDIA,\\n      having solemnly resolved to constitute India into a SOVEREIGN,!\\n \\t   SOCIALIST,SECULAR, DEMOCRATIC\\n \\t    REPUBLIC and to secure to all its citizens\")"
   ]
  },
  {
   "cell_type": "raw",
   "metadata": {},
   "source": [
    "2.3. Problem Statement: PYTHON 3\n",
    "1.1. Write a Python Program to implement your own myreduce() function which works exactly\n",
    "like Python's built-in function reduce()"
   ]
  },
  {
   "cell_type": "code",
   "execution_count": 16,
   "metadata": {},
   "outputs": [
    {
     "name": "stdout",
     "output_type": "stream",
     "text": [
      "40\n"
     ]
    }
   ],
   "source": [
    "def myreduce(func,lst):\n",
    "    x=lst[0]\n",
    "    y=lst[1]\n",
    "    for i in range (2,len(lst)):\n",
    "        x=func(x,y)\n",
    "        y=lst[i]\n",
    "    return func(x,y)\n",
    "samplelist1=[1,2,4,5]\n",
    "def samplefun(a,b):\n",
    "    return a*b\n",
    "print(myreduce(samplefun,samplelist1))"
   ]
  },
  {
   "cell_type": "raw",
   "metadata": {},
   "source": [
    "1.2. Write a Python program to implement your own myfilter() function which works exactly\n",
    "like Python's built-in function filter()"
   ]
  },
  {
   "cell_type": "code",
   "execution_count": 57,
   "metadata": {},
   "outputs": [
    {
     "data": {
      "text/plain": [
       "[5, 6]"
      ]
     },
     "execution_count": 57,
     "metadata": {},
     "output_type": "execute_result"
    }
   ],
   "source": [
    "def myfilter(fil,lis):\n",
    "    mylist=[]\n",
    "    for i in lis:\n",
    "        if fil(i)==True:\n",
    "            mylist.append(i)\n",
    "    return mylist\n",
    "def myfun(c):\n",
    "    if c>4:\n",
    "        return True\n",
    "mylist=[1,2,3,4,5,6]\n",
    "\n",
    "myfilter(myfun,mylist)"
   ]
  },
  {
   "cell_type": "raw",
   "metadata": {},
   "source": [
    "2. Implement List comprehensions to produce the following lists.\n",
    "Write List comprehensions to produce the following Lists.\n",
    "['A', 'C', 'A', 'D', 'G', 'I', ’L’, ‘ D’]\n",
    "['x', 'xx', 'xxx', 'xxxx', 'y', 'yy', 'yyy', 'yyyy', 'z', 'zz', 'zzz', 'zzzz']\n",
    "['x', 'y', 'z', 'xx', 'yy', 'zz', 'xxx', 'yyy', 'zzz', 'xxxx', 'yyyy', 'zzzz']\n",
    "[[2], [3], [4], [3], [4], [5], [4], [5], [6]] [[2, 3, 4, 5], [3, 4, 5, 6], [4,\n",
    "5, 6, 7], [5, 6, 7, 8]]\n",
    "[(1, 1), (2, 1), (3, 1), (1, 2), (2, 2), (3, 2), (1, 3), (2, 3), (3, 3)]"
   ]
  },
  {
   "cell_type": "code",
   "execution_count": 3,
   "metadata": {},
   "outputs": [
    {
     "name": "stdout",
     "output_type": "stream",
     "text": [
      "['A', 'C', 'A', 'D', 'G', 'I', 'L', 'D']\n",
      "['x', 'xx', 'xxx', 'xxxx', 'y', 'yy', 'yyy', 'yyyy', 'z', 'zz', 'zzz', 'zzzz']\n",
      "['x', 'y', 'z', 'xx', 'yy', 'zz', 'xxx', 'yyy', 'zzz', 'xxxx', 'yyyy', 'zzzz']\n",
      "[[2], [3], [4], [3], [4], [5], [4], [5], [6]]\n",
      "[[2, 3, 4, 5], [3, 4, 5, 6], [4, 5, 6, 7], [5, 6, 7, 8]]\n",
      "[(1, 1), (2, 1), (3, 1), (1, 2), (2, 2), (3, 2), (1, 3), (2, 3), (3, 3)]\n"
     ]
    }
   ],
   "source": [
    "list1=[i for i in \"ACADGILD\"]\n",
    "print(list1)\n",
    "list2=[i*j for i in ['x','y','z'] for j in range(1,5)]\n",
    "print(list2)\n",
    "list3=[j*i for i in range(1,5) for j in ['x','y','z']]\n",
    "print(list3)\n",
    "list4=[[i+j]for i in range(2,5) for j in range(0,3)]\n",
    "print(list4)\n",
    "list5=[[i,i+1,i+2,i+3]for i in range(2,6)]\n",
    "print(list5)\n",
    "list6=[(j,i) for i in range(1,4) for j in range(1,4)]\n",
    "print(list6)\n"
   ]
  },
  {
   "cell_type": "raw",
   "metadata": {},
   "source": [
    "3. Implement a function longestWord() that takes a list of words and returns the longest one."
   ]
  },
  {
   "cell_type": "code",
   "execution_count": 59,
   "metadata": {},
   "outputs": [
    {
     "name": "stdout",
     "output_type": "stream",
     "text": [
      "Enter word list with comma separated : apple,car,animal,elephant\n",
      "longest word is :  elephant\n"
     ]
    }
   ],
   "source": [
    "listofword=input(\"Enter word list with comma separated : \")\n",
    "def longestword(wordlist):\n",
    "    longestword=\"\"\n",
    "    length=0\n",
    "    for i in wordlist:\n",
    "        if len(i)>length:\n",
    "            longestword=i\n",
    "            length=len(i)\n",
    "    return print(\"longest word is : \",longestword)\n",
    "wrdlist=listofword.split(\",\")\n",
    "longestword(wrdlist)"
   ]
  },
  {
   "cell_type": "raw",
   "metadata": {},
   "source": [
    "2.4. Problem Statement: PYTHON 4\n",
    "1.1 Write a Python Program(with class concepts) to find the area of the triangle using the below\n",
    "formula.\n",
    "area = (s*(s-a)*(s-b)*(s-c)) ** 0.5\n",
    "Function to take the length of the sides of triangle from user should be defined in the parent\n",
    "class and function to calculate the area should be defined in subclass."
   ]
  },
  {
   "cell_type": "code",
   "execution_count": 55,
   "metadata": {},
   "outputs": [
    {
     "name": "stdout",
     "output_type": "stream",
     "text": [
      "Enter the first side length : 8\n",
      "Enter the second side length : 6\n",
      "Enter the third side length : 9\n",
      "Area of triangle is :  23.53 square unit\n"
     ]
    }
   ],
   "source": [
    "a1=int(input(\"Enter the first side length : \"))\n",
    "a2=int(input(\"Enter the second side length : \"))\n",
    "a3=int(input(\"Enter the third side length : \"))\n",
    "class sides:\n",
    "    def __init__(self,side1,side2,side3):\n",
    "        self.a=side1\n",
    "        self.b=side2\n",
    "        self.c=side3\n",
    "        self.s=(side1+side2+side3)/2\n",
    "    \n",
    "class triangle_area(sides):\n",
    "    def area(self):\n",
    "        area11=(self.s*(self.s-self.a)*(self.s-self.b)*(self.s-self.c)) ** 0.5\n",
    "        print(\"Area of triangle is : \",round(area11,2),\"square unit\")\n",
    "area1=triangle_area(a1,a2,a3)\n",
    "area1.area()\n",
    "        "
   ]
  },
  {
   "cell_type": "markdown",
   "metadata": {},
   "source": [
    "1.2 Write a function filter_long_words() that takes a list of words and an integer n and returns\n",
    "the list of words that are longer than n."
   ]
  },
  {
   "cell_type": "code",
   "execution_count": 14,
   "metadata": {},
   "outputs": [
    {
     "name": "stdout",
     "output_type": "stream",
     "text": [
      "enter  the integer : 4\n",
      "enter the word list in comma separated : apple,mango,cat,rat,banana\n",
      "list of longest words :  ['apple', 'mango', 'banana']\n"
     ]
    }
   ],
   "source": [
    "n=int(input(\"enter  the integer : \"))\n",
    "wordlist=input(\"enter the word list in comma separated : \")\n",
    "word_list=wordlist.split(\",\")\n",
    "def filter_long_words(l):\n",
    "    long_words=[]\n",
    "    for i in l:\n",
    "        if len(i)>n:\n",
    "            long_words.append(i)\n",
    "    return print(\"list of longest words : \",long_words)\n",
    "filter_long_words(word_list)"
   ]
  },
  {
   "cell_type": "raw",
   "metadata": {},
   "source": [
    "2.1 Write a Python program using function concept that maps list of words into a list of integers\n",
    "representing the lengths of the corresponding words.\n",
    "Hint: If a list [ ab,cde,erty] is passed on to the python function output should come as [2,3,4]\n",
    "Here 2,3 and 4 are the lengths of the words in the list."
   ]
  },
  {
   "cell_type": "code",
   "execution_count": 20,
   "metadata": {},
   "outputs": [
    {
     "name": "stdout",
     "output_type": "stream",
     "text": [
      "enter the word list in comma separated : aplle,gokul,cat,mann,cgf\n",
      "word list :  ['aplle', 'gokul', 'cat', 'mann', 'cgf'] \n",
      "word length list :  [5, 5, 3, 4, 3]\n"
     ]
    }
   ],
   "source": [
    "wordlist1=input(\"enter the word list in comma separated : \")\n",
    "word_list1=wordlist1.split(\",\")\n",
    "def word_length(ls):\n",
    "    word_len=[]\n",
    "    for i in ls:\n",
    "        word_len.append(len(i))\n",
    "    return print(\"word list : \",ls,\"\\nword length list : \",word_len)\n",
    "word_length(word_list1)\n"
   ]
  },
  {
   "cell_type": "raw",
   "metadata": {},
   "source": [
    "2.2 Write a Python function which takes a character (i.e. a string of length 1) and returns True if\n",
    "it is a vowel, False otherwise."
   ]
  },
  {
   "cell_type": "code",
   "execution_count": 33,
   "metadata": {},
   "outputs": [
    {
     "name": "stdout",
     "output_type": "stream",
     "text": [
      "enter letter u\n"
     ]
    },
    {
     "data": {
      "text/plain": [
       "True"
      ]
     },
     "execution_count": 33,
     "metadata": {},
     "output_type": "execute_result"
    }
   ],
   "source": [
    "ch=input(\"enter letter \")\n",
    "def vowel(vow):\n",
    "    a=False\n",
    "    for i in \"AEIOU\":\n",
    "        if i==vow.upper():\n",
    "            a=True\n",
    "            break\n",
    "    return a\n",
    "vowel(ch)"
   ]
  },
  {
   "cell_type": "raw",
   "metadata": {},
   "source": [
    "2.5. Problem Statement: PYTHON 5\n",
    "1. Write a function to compute 5/0 and use try/except to catch the exceptions."
   ]
  },
  {
   "cell_type": "code",
   "execution_count": 56,
   "metadata": {},
   "outputs": [
    {
     "name": "stdout",
     "output_type": "stream",
     "text": [
      "exception is :  division by zero\n"
     ]
    }
   ],
   "source": [
    "def div_zero():\n",
    "    try:\n",
    "        a=5/0\n",
    "    except Exception as e:\n",
    "        print(\"exception is : \",e)\n",
    "div_zero()"
   ]
  },
  {
   "cell_type": "raw",
   "metadata": {},
   "source": [
    "2. Implement a Python program to generate all sentences where subject is in [\"Americans\",\n",
    "\"Indians\"] and verb is in [\"Play\", \"watch\"] and the object is in [\"Baseball\",\"cricket\"].\n",
    "Hint: Subject,Verb and Object should be declared in the program as shown below.\n",
    "subjects=[\"Americans \",\"Indians\"]\n",
    "verbs=[\"play\",\"watch\"]\n",
    "objects=[\"Baseball\",\"Cricket\"]\n",
    "Output should come as below:\n",
    "Americans play Baseball.\n",
    "Americans play Cricket.\n",
    "Americans watch Baseball.\n",
    "Americans watch Cricket.\n",
    "Indians play Baseball.\n",
    "Indians play Cricket.\n",
    "Indians watch Baseball.\n",
    "Indians watch Cricket."
   ]
  },
  {
   "cell_type": "code",
   "execution_count": 41,
   "metadata": {},
   "outputs": [
    {
     "name": "stdout",
     "output_type": "stream",
     "text": [
      "Americans  play Baseball.\n",
      "Americans  play Cricket.\n",
      "Americans  watch Baseball.\n",
      "Americans  watch Cricket.\n",
      "Indians play Baseball.\n",
      "Indians play Cricket.\n",
      "Indians watch Baseball.\n",
      "Indians watch Cricket.\n"
     ]
    }
   ],
   "source": [
    "subjects=[\"Americans \",\"Indians\"]\n",
    "verbs=[\"play\",\"watch\"]\n",
    "objects=[\"Baseball\",\"Cricket\"]\n",
    "for i in subjects:\n",
    "    for j in verbs:\n",
    "        for k in objects:\n",
    "            print(i,j,k+\".\")"
   ]
  }
 ],
 "metadata": {
  "kernelspec": {
   "display_name": "Python 3",
   "language": "python",
   "name": "python3"
  },
  "language_info": {
   "codemirror_mode": {
    "name": "ipython",
    "version": 3
   },
   "file_extension": ".py",
   "mimetype": "text/x-python",
   "name": "python",
   "nbconvert_exporter": "python",
   "pygments_lexer": "ipython3",
   "version": "3.7.1"
  }
 },
 "nbformat": 4,
 "nbformat_minor": 2
}
